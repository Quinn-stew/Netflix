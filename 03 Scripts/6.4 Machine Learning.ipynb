{
 "cells": [
  {
   "cell_type": "markdown",
   "id": "396acab3",
   "metadata": {},
   "source": [
    "# 6.4 Machine Learning Part 1"
   ]
  },
  {
   "cell_type": "markdown",
   "id": "e18ef13e",
   "metadata": {},
   "source": [
    "#### 1. Importing libraries and data"
   ]
  },
  {
   "cell_type": "markdown",
   "id": "5a77a575",
   "metadata": {},
   "source": [
    "#### 2. Data cleaning"
   ]
  },
  {
   "cell_type": "markdown",
   "id": "2f382ff9",
   "metadata": {},
   "source": [
    "#### 3. Data prep for regression analysis"
   ]
  },
  {
   "cell_type": "markdown",
   "id": "cc6cf735",
   "metadata": {},
   "source": [
    "#### 4. Regression analysis"
   ]
  },
  {
   "cell_type": "markdown",
   "id": "4ab877dd",
   "metadata": {},
   "source": [
    "### 1. Importing libraries and data"
   ]
  },
  {
   "cell_type": "code",
   "execution_count": 1,
   "id": "a2d26f9e",
   "metadata": {},
   "outputs": [],
   "source": [
    "import pandas as pd\n",
    "import numpy as np\n",
    "import seaborn as sns\n",
    "import matplotlib\n",
    "import matplotlib.pyplot as plt\n",
    "import os\n",
    "import sklearn\n",
    "from sklearn.model_selection import train_test_split \n",
    "from sklearn.linear_model import LinearRegression\n",
    "from sklearn.metrics import mean_squared_error, r2_score"
   ]
  },
  {
   "cell_type": "code",
   "execution_count": 2,
   "id": "66750917",
   "metadata": {},
   "outputs": [],
   "source": [
    "# ensuring the chart displayes in the notebook instead of having to call them specifically. \n",
    "%matplotlib inline"
   ]
  },
  {
   "cell_type": "code",
   "execution_count": 3,
   "id": "69aca637",
   "metadata": {},
   "outputs": [],
   "source": [
    "# Importing datafram\n",
    "path = r\"C:\\Users\\quinn\\PycharmProjects\\Netflix Analysis 07-23-2021\"\n",
    "df = pd.read_csv(os.path.join(path,'02 Data','Prepared Data', 'netflix_checked.csv'), index_col = False)"
   ]
  },
  {
   "cell_type": "markdown",
   "id": "667b32a1",
   "metadata": {},
   "source": [
    "### 2. Data cleaning"
   ]
  },
  {
   "cell_type": "code",
   "execution_count": 4,
   "id": "8a2682dd",
   "metadata": {},
   "outputs": [
    {
     "data": {
      "text/html": [
       "<div>\n",
       "<style scoped>\n",
       "    .dataframe tbody tr th:only-of-type {\n",
       "        vertical-align: middle;\n",
       "    }\n",
       "\n",
       "    .dataframe tbody tr th {\n",
       "        vertical-align: top;\n",
       "    }\n",
       "\n",
       "    .dataframe thead th {\n",
       "        text-align: right;\n",
       "    }\n",
       "</style>\n",
       "<table border=\"1\" class=\"dataframe\">\n",
       "  <thead>\n",
       "    <tr style=\"text-align: right;\">\n",
       "      <th></th>\n",
       "      <th>Unnamed: 0</th>\n",
       "      <th>Unnamed: 0.1</th>\n",
       "      <th>cast</th>\n",
       "      <th>type</th>\n",
       "      <th>title</th>\n",
       "      <th>country</th>\n",
       "      <th>date_added</th>\n",
       "      <th>release_year</th>\n",
       "      <th>description</th>\n",
       "      <th>director</th>\n",
       "      <th>duration</th>\n",
       "      <th>listed_in</th>\n",
       "      <th>rating</th>\n",
       "      <th>rt_info</th>\n",
       "      <th>rt_cast</th>\n",
       "      <th>rt_audience_score</th>\n",
       "      <th>rt_audience_#reviews</th>\n",
       "      <th>rt_tomatometer_score</th>\n",
       "      <th>rt_critics_#reviews</th>\n",
       "      <th>rt_critic_review</th>\n",
       "    </tr>\n",
       "  </thead>\n",
       "  <tbody>\n",
       "    <tr>\n",
       "      <th>0</th>\n",
       "      <td>0</td>\n",
       "      <td>s2</td>\n",
       "      <td>Demián Bichir, Héctor Bonilla, Oscar Serrano, ...</td>\n",
       "      <td>Movie</td>\n",
       "      <td>7:19</td>\n",
       "      <td>Mexico</td>\n",
       "      <td>23-Dec-16</td>\n",
       "      <td>2016</td>\n",
       "      <td>After a devastating earthquake hits Mexico Cit...</td>\n",
       "      <td>Jorge Michel Grau</td>\n",
       "      <td>93 min</td>\n",
       "      <td>Dramas, International Movies</td>\n",
       "      <td>TV-MA</td>\n",
       "      <td>{'Genre': 'drama', 'Original Language': 'Spani...</td>\n",
       "      <td>{'Elsa - Eloisa Delfin': 'Carmen Beato', 'Fern...</td>\n",
       "      <td>52.0</td>\n",
       "      <td>10</td>\n",
       "      <td>100.0</td>\n",
       "      <td>10.0</td>\n",
       "      <td>[{'Review': 'The intentions of this film are c...</td>\n",
       "    </tr>\n",
       "    <tr>\n",
       "      <th>1</th>\n",
       "      <td>1</td>\n",
       "      <td>s3</td>\n",
       "      <td>Tedd Chan, Stella Chung, Henley Hii, Lawrence ...</td>\n",
       "      <td>Movie</td>\n",
       "      <td>23:59</td>\n",
       "      <td>Singapore</td>\n",
       "      <td>20-Dec-18</td>\n",
       "      <td>2011</td>\n",
       "      <td>When an army recruit is found dead, his fellow...</td>\n",
       "      <td>Gilbert Chan</td>\n",
       "      <td>78 min</td>\n",
       "      <td>Horror Movies, International Movies</td>\n",
       "      <td>R</td>\n",
       "      <td>{'Genre': 'horror', 'Original Language': 'Chin...</td>\n",
       "      <td>{'Boss': 'Philip Hersh', 'Tan': 'Tedd Chan', '...</td>\n",
       "      <td>20.0</td>\n",
       "      <td>10</td>\n",
       "      <td>NaN</td>\n",
       "      <td>0.0</td>\n",
       "      <td>NaN</td>\n",
       "    </tr>\n",
       "    <tr>\n",
       "      <th>2</th>\n",
       "      <td>2</td>\n",
       "      <td>s4</td>\n",
       "      <td>Elijah Wood, John C. Reilly, Jennifer Connelly...</td>\n",
       "      <td>Movie</td>\n",
       "      <td>9</td>\n",
       "      <td>United States</td>\n",
       "      <td>16-Nov-17</td>\n",
       "      <td>2009</td>\n",
       "      <td>In a postapocalyptic world, rag-doll robots hi...</td>\n",
       "      <td>Shane Acker</td>\n",
       "      <td>80 min</td>\n",
       "      <td>Action &amp; Adventure, Independent Movies, Sci-Fi...</td>\n",
       "      <td>PG-13</td>\n",
       "      <td>NaN</td>\n",
       "      <td>NaN</td>\n",
       "      <td>56.0</td>\n",
       "      <td>NaN</td>\n",
       "      <td>57.0</td>\n",
       "      <td>NaN</td>\n",
       "      <td>NaN</td>\n",
       "    </tr>\n",
       "    <tr>\n",
       "      <th>3</th>\n",
       "      <td>3</td>\n",
       "      <td>s5</td>\n",
       "      <td>Jim Sturgess, Kevin Spacey, Kate Bosworth, Aar...</td>\n",
       "      <td>Movie</td>\n",
       "      <td>21</td>\n",
       "      <td>United States</td>\n",
       "      <td>1-Jan-20</td>\n",
       "      <td>2008</td>\n",
       "      <td>A brilliant group of students become card-coun...</td>\n",
       "      <td>Robert Luketic</td>\n",
       "      <td>123 min</td>\n",
       "      <td>Dramas</td>\n",
       "      <td>PG-13</td>\n",
       "      <td>{'Genre': 'romance, comedy, drama', 'Original ...</td>\n",
       "      <td>{'Justin Sellers': 'Matt Wheeler', 'Sam Presco...</td>\n",
       "      <td>17.0</td>\n",
       "      <td>10</td>\n",
       "      <td>NaN</td>\n",
       "      <td>0.0</td>\n",
       "      <td>[{'Review': 'Empty calories, yes, but tasty en...</td>\n",
       "    </tr>\n",
       "    <tr>\n",
       "      <th>4</th>\n",
       "      <td>4</td>\n",
       "      <td>s7</td>\n",
       "      <td>Amina Khalil, Ahmed Dawood, Tarek Lotfy, Ahmed...</td>\n",
       "      <td>Movie</td>\n",
       "      <td>122</td>\n",
       "      <td>Egypt</td>\n",
       "      <td>1-Jun-20</td>\n",
       "      <td>2019</td>\n",
       "      <td>After an awful accident, a couple admitted to ...</td>\n",
       "      <td>Yasir Al Yasiri</td>\n",
       "      <td>95 min</td>\n",
       "      <td>Horror Movies, International Movies</td>\n",
       "      <td>TV-MA</td>\n",
       "      <td>NaN</td>\n",
       "      <td>NaN</td>\n",
       "      <td>NaN</td>\n",
       "      <td>NaN</td>\n",
       "      <td>NaN</td>\n",
       "      <td>NaN</td>\n",
       "      <td>NaN</td>\n",
       "    </tr>\n",
       "  </tbody>\n",
       "</table>\n",
       "</div>"
      ],
      "text/plain": [
       "   Unnamed: 0 Unnamed: 0.1                                               cast  \\\n",
       "0           0           s2  Demián Bichir, Héctor Bonilla, Oscar Serrano, ...   \n",
       "1           1           s3  Tedd Chan, Stella Chung, Henley Hii, Lawrence ...   \n",
       "2           2           s4  Elijah Wood, John C. Reilly, Jennifer Connelly...   \n",
       "3           3           s5  Jim Sturgess, Kevin Spacey, Kate Bosworth, Aar...   \n",
       "4           4           s7  Amina Khalil, Ahmed Dawood, Tarek Lotfy, Ahmed...   \n",
       "\n",
       "    type  title        country date_added  release_year  \\\n",
       "0  Movie   7:19         Mexico  23-Dec-16          2016   \n",
       "1  Movie  23:59      Singapore  20-Dec-18          2011   \n",
       "2  Movie      9  United States  16-Nov-17          2009   \n",
       "3  Movie     21  United States   1-Jan-20          2008   \n",
       "4  Movie    122          Egypt   1-Jun-20          2019   \n",
       "\n",
       "                                         description           director  \\\n",
       "0  After a devastating earthquake hits Mexico Cit...  Jorge Michel Grau   \n",
       "1  When an army recruit is found dead, his fellow...       Gilbert Chan   \n",
       "2  In a postapocalyptic world, rag-doll robots hi...        Shane Acker   \n",
       "3  A brilliant group of students become card-coun...     Robert Luketic   \n",
       "4  After an awful accident, a couple admitted to ...    Yasir Al Yasiri   \n",
       "\n",
       "  duration                                          listed_in rating  \\\n",
       "0   93 min                       Dramas, International Movies  TV-MA   \n",
       "1   78 min                Horror Movies, International Movies      R   \n",
       "2   80 min  Action & Adventure, Independent Movies, Sci-Fi...  PG-13   \n",
       "3  123 min                                             Dramas  PG-13   \n",
       "4   95 min                Horror Movies, International Movies  TV-MA   \n",
       "\n",
       "                                             rt_info  \\\n",
       "0  {'Genre': 'drama', 'Original Language': 'Spani...   \n",
       "1  {'Genre': 'horror', 'Original Language': 'Chin...   \n",
       "2                                                NaN   \n",
       "3  {'Genre': 'romance, comedy, drama', 'Original ...   \n",
       "4                                                NaN   \n",
       "\n",
       "                                             rt_cast  rt_audience_score  \\\n",
       "0  {'Elsa - Eloisa Delfin': 'Carmen Beato', 'Fern...               52.0   \n",
       "1  {'Boss': 'Philip Hersh', 'Tan': 'Tedd Chan', '...               20.0   \n",
       "2                                                NaN               56.0   \n",
       "3  {'Justin Sellers': 'Matt Wheeler', 'Sam Presco...               17.0   \n",
       "4                                                NaN                NaN   \n",
       "\n",
       "  rt_audience_#reviews  rt_tomatometer_score  rt_critics_#reviews  \\\n",
       "0                   10                 100.0                 10.0   \n",
       "1                   10                   NaN                  0.0   \n",
       "2                  NaN                  57.0                  NaN   \n",
       "3                   10                   NaN                  0.0   \n",
       "4                  NaN                   NaN                  NaN   \n",
       "\n",
       "                                    rt_critic_review  \n",
       "0  [{'Review': 'The intentions of this film are c...  \n",
       "1                                                NaN  \n",
       "2                                                NaN  \n",
       "3  [{'Review': 'Empty calories, yes, but tasty en...  \n",
       "4                                                NaN  "
      ]
     },
     "execution_count": 4,
     "metadata": {},
     "output_type": "execute_result"
    }
   ],
   "source": [
    "# Looking at the head of the data frame\n",
    "df.head()"
   ]
  },
  {
   "cell_type": "code",
   "execution_count": 5,
   "id": "4865f013",
   "metadata": {},
   "outputs": [],
   "source": [
    "# Dropping both unnamed\n",
    "df_1=df.drop(['Unnamed: 0','Unnamed: 0.1'],axis=1)"
   ]
  },
  {
   "cell_type": "code",
   "execution_count": 6,
   "id": "47a8a3cb",
   "metadata": {},
   "outputs": [
    {
     "data": {
      "text/html": [
       "<div>\n",
       "<style scoped>\n",
       "    .dataframe tbody tr th:only-of-type {\n",
       "        vertical-align: middle;\n",
       "    }\n",
       "\n",
       "    .dataframe tbody tr th {\n",
       "        vertical-align: top;\n",
       "    }\n",
       "\n",
       "    .dataframe thead th {\n",
       "        text-align: right;\n",
       "    }\n",
       "</style>\n",
       "<table border=\"1\" class=\"dataframe\">\n",
       "  <thead>\n",
       "    <tr style=\"text-align: right;\">\n",
       "      <th></th>\n",
       "      <th>cast</th>\n",
       "      <th>type</th>\n",
       "      <th>title</th>\n",
       "      <th>country</th>\n",
       "      <th>date_added</th>\n",
       "      <th>release_year</th>\n",
       "      <th>description</th>\n",
       "      <th>director</th>\n",
       "      <th>duration</th>\n",
       "      <th>listed_in</th>\n",
       "      <th>rating</th>\n",
       "      <th>rt_info</th>\n",
       "      <th>rt_cast</th>\n",
       "      <th>rt_audience_score</th>\n",
       "      <th>rt_audience_#reviews</th>\n",
       "      <th>rt_tomatometer_score</th>\n",
       "      <th>rt_critics_#reviews</th>\n",
       "      <th>rt_critic_review</th>\n",
       "    </tr>\n",
       "  </thead>\n",
       "  <tbody>\n",
       "    <tr>\n",
       "      <th>0</th>\n",
       "      <td>Demián Bichir, Héctor Bonilla, Oscar Serrano, ...</td>\n",
       "      <td>Movie</td>\n",
       "      <td>7:19</td>\n",
       "      <td>Mexico</td>\n",
       "      <td>23-Dec-16</td>\n",
       "      <td>2016</td>\n",
       "      <td>After a devastating earthquake hits Mexico Cit...</td>\n",
       "      <td>Jorge Michel Grau</td>\n",
       "      <td>93 min</td>\n",
       "      <td>Dramas, International Movies</td>\n",
       "      <td>TV-MA</td>\n",
       "      <td>{'Genre': 'drama', 'Original Language': 'Spani...</td>\n",
       "      <td>{'Elsa - Eloisa Delfin': 'Carmen Beato', 'Fern...</td>\n",
       "      <td>52.0</td>\n",
       "      <td>10</td>\n",
       "      <td>100.0</td>\n",
       "      <td>10.0</td>\n",
       "      <td>[{'Review': 'The intentions of this film are c...</td>\n",
       "    </tr>\n",
       "    <tr>\n",
       "      <th>1</th>\n",
       "      <td>Tedd Chan, Stella Chung, Henley Hii, Lawrence ...</td>\n",
       "      <td>Movie</td>\n",
       "      <td>23:59</td>\n",
       "      <td>Singapore</td>\n",
       "      <td>20-Dec-18</td>\n",
       "      <td>2011</td>\n",
       "      <td>When an army recruit is found dead, his fellow...</td>\n",
       "      <td>Gilbert Chan</td>\n",
       "      <td>78 min</td>\n",
       "      <td>Horror Movies, International Movies</td>\n",
       "      <td>R</td>\n",
       "      <td>{'Genre': 'horror', 'Original Language': 'Chin...</td>\n",
       "      <td>{'Boss': 'Philip Hersh', 'Tan': 'Tedd Chan', '...</td>\n",
       "      <td>20.0</td>\n",
       "      <td>10</td>\n",
       "      <td>NaN</td>\n",
       "      <td>0.0</td>\n",
       "      <td>NaN</td>\n",
       "    </tr>\n",
       "    <tr>\n",
       "      <th>2</th>\n",
       "      <td>Elijah Wood, John C. Reilly, Jennifer Connelly...</td>\n",
       "      <td>Movie</td>\n",
       "      <td>9</td>\n",
       "      <td>United States</td>\n",
       "      <td>16-Nov-17</td>\n",
       "      <td>2009</td>\n",
       "      <td>In a postapocalyptic world, rag-doll robots hi...</td>\n",
       "      <td>Shane Acker</td>\n",
       "      <td>80 min</td>\n",
       "      <td>Action &amp; Adventure, Independent Movies, Sci-Fi...</td>\n",
       "      <td>PG-13</td>\n",
       "      <td>NaN</td>\n",
       "      <td>NaN</td>\n",
       "      <td>56.0</td>\n",
       "      <td>NaN</td>\n",
       "      <td>57.0</td>\n",
       "      <td>NaN</td>\n",
       "      <td>NaN</td>\n",
       "    </tr>\n",
       "    <tr>\n",
       "      <th>3</th>\n",
       "      <td>Jim Sturgess, Kevin Spacey, Kate Bosworth, Aar...</td>\n",
       "      <td>Movie</td>\n",
       "      <td>21</td>\n",
       "      <td>United States</td>\n",
       "      <td>1-Jan-20</td>\n",
       "      <td>2008</td>\n",
       "      <td>A brilliant group of students become card-coun...</td>\n",
       "      <td>Robert Luketic</td>\n",
       "      <td>123 min</td>\n",
       "      <td>Dramas</td>\n",
       "      <td>PG-13</td>\n",
       "      <td>{'Genre': 'romance, comedy, drama', 'Original ...</td>\n",
       "      <td>{'Justin Sellers': 'Matt Wheeler', 'Sam Presco...</td>\n",
       "      <td>17.0</td>\n",
       "      <td>10</td>\n",
       "      <td>NaN</td>\n",
       "      <td>0.0</td>\n",
       "      <td>[{'Review': 'Empty calories, yes, but tasty en...</td>\n",
       "    </tr>\n",
       "    <tr>\n",
       "      <th>4</th>\n",
       "      <td>Amina Khalil, Ahmed Dawood, Tarek Lotfy, Ahmed...</td>\n",
       "      <td>Movie</td>\n",
       "      <td>122</td>\n",
       "      <td>Egypt</td>\n",
       "      <td>1-Jun-20</td>\n",
       "      <td>2019</td>\n",
       "      <td>After an awful accident, a couple admitted to ...</td>\n",
       "      <td>Yasir Al Yasiri</td>\n",
       "      <td>95 min</td>\n",
       "      <td>Horror Movies, International Movies</td>\n",
       "      <td>TV-MA</td>\n",
       "      <td>NaN</td>\n",
       "      <td>NaN</td>\n",
       "      <td>NaN</td>\n",
       "      <td>NaN</td>\n",
       "      <td>NaN</td>\n",
       "      <td>NaN</td>\n",
       "      <td>NaN</td>\n",
       "    </tr>\n",
       "  </tbody>\n",
       "</table>\n",
       "</div>"
      ],
      "text/plain": [
       "                                                cast   type  title  \\\n",
       "0  Demián Bichir, Héctor Bonilla, Oscar Serrano, ...  Movie   7:19   \n",
       "1  Tedd Chan, Stella Chung, Henley Hii, Lawrence ...  Movie  23:59   \n",
       "2  Elijah Wood, John C. Reilly, Jennifer Connelly...  Movie      9   \n",
       "3  Jim Sturgess, Kevin Spacey, Kate Bosworth, Aar...  Movie     21   \n",
       "4  Amina Khalil, Ahmed Dawood, Tarek Lotfy, Ahmed...  Movie    122   \n",
       "\n",
       "         country date_added  release_year  \\\n",
       "0         Mexico  23-Dec-16          2016   \n",
       "1      Singapore  20-Dec-18          2011   \n",
       "2  United States  16-Nov-17          2009   \n",
       "3  United States   1-Jan-20          2008   \n",
       "4          Egypt   1-Jun-20          2019   \n",
       "\n",
       "                                         description           director  \\\n",
       "0  After a devastating earthquake hits Mexico Cit...  Jorge Michel Grau   \n",
       "1  When an army recruit is found dead, his fellow...       Gilbert Chan   \n",
       "2  In a postapocalyptic world, rag-doll robots hi...        Shane Acker   \n",
       "3  A brilliant group of students become card-coun...     Robert Luketic   \n",
       "4  After an awful accident, a couple admitted to ...    Yasir Al Yasiri   \n",
       "\n",
       "  duration                                          listed_in rating  \\\n",
       "0   93 min                       Dramas, International Movies  TV-MA   \n",
       "1   78 min                Horror Movies, International Movies      R   \n",
       "2   80 min  Action & Adventure, Independent Movies, Sci-Fi...  PG-13   \n",
       "3  123 min                                             Dramas  PG-13   \n",
       "4   95 min                Horror Movies, International Movies  TV-MA   \n",
       "\n",
       "                                             rt_info  \\\n",
       "0  {'Genre': 'drama', 'Original Language': 'Spani...   \n",
       "1  {'Genre': 'horror', 'Original Language': 'Chin...   \n",
       "2                                                NaN   \n",
       "3  {'Genre': 'romance, comedy, drama', 'Original ...   \n",
       "4                                                NaN   \n",
       "\n",
       "                                             rt_cast  rt_audience_score  \\\n",
       "0  {'Elsa - Eloisa Delfin': 'Carmen Beato', 'Fern...               52.0   \n",
       "1  {'Boss': 'Philip Hersh', 'Tan': 'Tedd Chan', '...               20.0   \n",
       "2                                                NaN               56.0   \n",
       "3  {'Justin Sellers': 'Matt Wheeler', 'Sam Presco...               17.0   \n",
       "4                                                NaN                NaN   \n",
       "\n",
       "  rt_audience_#reviews  rt_tomatometer_score  rt_critics_#reviews  \\\n",
       "0                   10                 100.0                 10.0   \n",
       "1                   10                   NaN                  0.0   \n",
       "2                  NaN                  57.0                  NaN   \n",
       "3                   10                   NaN                  0.0   \n",
       "4                  NaN                   NaN                  NaN   \n",
       "\n",
       "                                    rt_critic_review  \n",
       "0  [{'Review': 'The intentions of this film are c...  \n",
       "1                                                NaN  \n",
       "2                                                NaN  \n",
       "3  [{'Review': 'Empty calories, yes, but tasty en...  \n",
       "4                                                NaN  "
      ]
     },
     "execution_count": 6,
     "metadata": {},
     "output_type": "execute_result"
    }
   ],
   "source": [
    "# Makeing sure it worked \n",
    "df_1.head()"
   ]
  },
  {
   "cell_type": "code",
   "execution_count": 7,
   "id": "d6f0ff48",
   "metadata": {},
   "outputs": [
    {
     "data": {
      "text/plain": [
       "(9657, 18)"
      ]
     },
     "execution_count": 7,
     "metadata": {},
     "output_type": "execute_result"
    }
   ],
   "source": [
    "df_1.shape"
   ]
  },
  {
   "cell_type": "markdown",
   "id": "c32da5fc",
   "metadata": {},
   "source": [
    "##### Missing Values"
   ]
  },
  {
   "cell_type": "code",
   "execution_count": 8,
   "id": "8ba176de",
   "metadata": {},
   "outputs": [
    {
     "data": {
      "text/plain": [
       "cast                     805\n",
       "type                       0\n",
       "title                      0\n",
       "country                  577\n",
       "date_added                54\n",
       "release_year               0\n",
       "description                0\n",
       "director                4120\n",
       "duration                   0\n",
       "listed_in                  0\n",
       "rating                     0\n",
       "rt_info                 4084\n",
       "rt_cast                 4501\n",
       "rt_audience_score       4549\n",
       "rt_audience_#reviews    4030\n",
       "rt_tomatometer_score    5418\n",
       "rt_critics_#reviews     4043\n",
       "rt_critic_review        5206\n",
       "dtype: int64"
      ]
     },
     "execution_count": 8,
     "metadata": {},
     "output_type": "execute_result"
    }
   ],
   "source": [
    "# checking for missing values\n",
    "df_1.isnull().sum()"
   ]
  },
  {
   "cell_type": "markdown",
   "id": "ef9cd8c3",
   "metadata": {},
   "source": [
    "There are missing values for the data. The cast, director, info, # reviews, and critic review are not nessisarry most of them arre string the nuymber of revieww is how many people actually reviewd the movie or tv show."
   ]
  },
  {
   "cell_type": "code",
   "execution_count": 9,
   "id": "69b5d45f",
   "metadata": {},
   "outputs": [],
   "source": [
    "# makeing the rt audience score and tomatometer score meadian \n",
    "df_1['rt_audience_score'].fillna(df_1['rt_audience_score'].median(), inplace=True)\n",
    "df_1['rt_tomatometer_score'].fillna(df_1['rt_tomatometer_score'].median(), inplace=True)"
   ]
  },
  {
   "cell_type": "code",
   "execution_count": 10,
   "id": "92e78267",
   "metadata": {},
   "outputs": [
    {
     "data": {
      "text/plain": [
       "cast                     805\n",
       "type                       0\n",
       "title                      0\n",
       "country                  577\n",
       "date_added                54\n",
       "release_year               0\n",
       "description                0\n",
       "director                4120\n",
       "duration                   0\n",
       "listed_in                  0\n",
       "rating                     0\n",
       "rt_info                 4084\n",
       "rt_cast                 4501\n",
       "rt_audience_score          0\n",
       "rt_audience_#reviews    4030\n",
       "rt_tomatometer_score       0\n",
       "rt_critics_#reviews     4043\n",
       "rt_critic_review        5206\n",
       "dtype: int64"
      ]
     },
     "execution_count": 10,
     "metadata": {},
     "output_type": "execute_result"
    }
   ],
   "source": [
    "df_1.isnull().sum()"
   ]
  },
  {
   "cell_type": "markdown",
   "id": "d95145af",
   "metadata": {},
   "source": [
    "##### Duplicates Check"
   ]
  },
  {
   "cell_type": "code",
   "execution_count": 11,
   "id": "af77a65b",
   "metadata": {},
   "outputs": [],
   "source": [
    "# Checking for duplicates\n",
    "dups = df_1.duplicated()"
   ]
  },
  {
   "cell_type": "code",
   "execution_count": 12,
   "id": "febe9b9a",
   "metadata": {},
   "outputs": [
    {
     "data": {
      "text/plain": [
       "(9657,)"
      ]
     },
     "execution_count": 12,
     "metadata": {},
     "output_type": "execute_result"
    }
   ],
   "source": [
    "dups.shape"
   ]
  },
  {
   "cell_type": "markdown",
   "id": "295b5981",
   "metadata": {},
   "source": [
    "No duplicates"
   ]
  },
  {
   "cell_type": "code",
   "execution_count": 13,
   "id": "0d2d9538",
   "metadata": {},
   "outputs": [],
   "source": [
    "# saving data\n",
    "df_1.to_csv(os.path.join(path, '02 Data','Prepared Data', 'netflix_revised.csv'))"
   ]
  },
  {
   "cell_type": "markdown",
   "id": "d7d28f9e",
   "metadata": {},
   "source": [
    "### 3. Data prep for regression analysis"
   ]
  },
  {
   "cell_type": "code",
   "execution_count": 13,
   "id": "581c3ee2",
   "metadata": {},
   "outputs": [
    {
     "data": {
      "image/png": "[encoded data removed]",
      "text/plain": [
       "<Figure size 432x288 with 1 Axes>"
      ]
     },
     "metadata": {
      "needs_background": "light"
     },
     "output_type": "display_data"
    }
   ],
   "source": [
    "# makeing a scatter plot to look at the data\n",
    "df_1.plot(x = 'rt_tomatometer_score', y='rt_audience_score',style='o') # The style option creates a scatterplot; without it, we only have lines.\n",
    "plt.title('Rotten Tomato Score VS Audience Score')  \n",
    "plt.xlabel('Rotten Tomato Meter score')  \n",
    "plt.ylabel('Audience score')  \n",
    "plt.show()"
   ]
  },
  {
   "cell_type": "markdown",
   "id": "d8ebcb84",
   "metadata": {},
   "source": [
    "### Hypotheses\n",
    "###### The higher the rotten tomato score the higher people will rate the movie \\tv show"
   ]
  },
  {
   "cell_type": "code",
   "execution_count": 14,
   "id": "db27e89d",
   "metadata": {},
   "outputs": [],
   "source": [
    "#Reshapeing the variables into Numpy arrays and putting them into seperate objects\n",
    "X = df_1['rt_tomatometer_score'].values.reshape(-1,1)\n",
    "y = df_1['rt_audience_score'].values.reshape(-1,1)"
   ]
  },
  {
   "cell_type": "code",
   "execution_count": 15,
   "id": "b0c1221b",
   "metadata": {},
   "outputs": [
    {
     "data": {
      "text/plain": [
       "array([[100.],\n",
       "       [ 60.],\n",
       "       [ 57.],\n",
       "       ...,\n",
       "       [ 60.],\n",
       "       [ 60.],\n",
       "       [  0.]])"
      ]
     },
     "execution_count": 15,
     "metadata": {},
     "output_type": "execute_result"
    }
   ],
   "source": [
    "# Checking the varibales\n",
    "X"
   ]
  },
  {
   "cell_type": "code",
   "execution_count": 16,
   "id": "485b6621",
   "metadata": {},
   "outputs": [
    {
     "data": {
      "text/plain": [
       "array([[52.],\n",
       "       [20.],\n",
       "       [56.],\n",
       "       ...,\n",
       "       [67.],\n",
       "       [67.],\n",
       "       [62.]])"
      ]
     },
     "execution_count": 16,
     "metadata": {},
     "output_type": "execute_result"
    }
   ],
   "source": [
    "y"
   ]
  },
  {
   "cell_type": "code",
   "execution_count": 17,
   "id": "f576fb3b",
   "metadata": {},
   "outputs": [],
   "source": [
    "# Spliting the data into traning set and a test set\n",
    "X_train, X_test, y_train, y_test = train_test_split(X, y, test_size=0.3, random_state=0)"
   ]
  },
  {
   "cell_type": "markdown",
   "id": "1508cc0a",
   "metadata": {},
   "source": [
    "### 4. Regression analysis"
   ]
  },
  {
   "cell_type": "code",
   "execution_count": 18,
   "id": "6b7e3a0b",
   "metadata": {},
   "outputs": [],
   "source": [
    "# creating the regression object\n",
    "regression= LinearRegression()"
   ]
  },
  {
   "cell_type": "code",
   "execution_count": 19,
   "id": "5d737012",
   "metadata": {},
   "outputs": [
    {
     "data": {
      "text/plain": [
       "LinearRegression()"
      ]
     },
     "execution_count": 19,
     "metadata": {},
     "output_type": "execute_result"
    }
   ],
   "source": [
    "# Fitting the regression object onto the training set\n",
    "regression.fit(X_train, y_train)"
   ]
  },
  {
   "cell_type": "code",
   "execution_count": 20,
   "id": "084883ae",
   "metadata": {},
   "outputs": [],
   "source": [
    "# Predicting the values of y using x\n",
    "y_predicted = regression.predict(X_test)"
   ]
  },
  {
   "cell_type": "code",
   "execution_count": 21,
   "id": "fef3f405",
   "metadata": {},
   "outputs": [
    {
     "data": {
      "image/png": "[encoded data removed]",
      "text/plain": [
       "<Figure size 432x288 with 1 Axes>"
      ]
     },
     "metadata": {
      "needs_background": "light"
     },
     "output_type": "display_data"
    }
   ],
   "source": [
    "# Createiing a plot that shows the regression line from the model on the test set.\n",
    "plot_test = plt\n",
    "plot_test.scatter(X_test, y_test, color='green', s = 15)\n",
    "plot_test.plot(X_test, y_predicted, color='red', linewidth =3)\n",
    "plot_test.title('Rotten Tomato Score VS Audience Score (Test set)')\n",
    "plot_test.xlabel('Rotten Tomato Meter score')\n",
    "plot_test.ylabel('Audience score')\n",
    "plot_test.show()"
   ]
  },
  {
   "cell_type": "markdown",
   "id": "d1d86838",
   "metadata": {},
   "source": [
    "##### My interpitaion of the graph\n",
    "It looks like there is a positive trend to the graph but most of the points are all around so I dont think the predicted is going to look good"
   ]
  },
  {
   "cell_type": "code",
   "execution_count": 22,
   "id": "574ab645",
   "metadata": {},
   "outputs": [],
   "source": [
    "#Creating a object that contains the model summary statistics\n",
    "rmse = mean_squared_error(y_test, y_predicted)\n",
    "r2 = r2_score(y_test, y_predicted)"
   ]
  },
  {
   "cell_type": "code",
   "execution_count": 23,
   "id": "e3de2cd3",
   "metadata": {},
   "outputs": [
    {
     "name": "stdout",
     "output_type": "stream",
     "text": [
      "Slope: [[0.43824395]]\n",
      "Mean squared error:  423.72404891998974\n",
      "R2 score:  0.2373844577287989\n"
     ]
    }
   ],
   "source": [
    "# Priting the summary statistics\n",
    "print('Slope:' ,regression.coef_)\n",
    "print('Mean squared error: ', rmse)\n",
    "print('R2 score: ', r2)"
   ]
  },
  {
   "cell_type": "code",
   "execution_count": 24,
   "id": "2685a66d",
   "metadata": {},
   "outputs": [
    {
     "data": {
      "text/html": [
       "<div>\n",
       "<style scoped>\n",
       "    .dataframe tbody tr th:only-of-type {\n",
       "        vertical-align: middle;\n",
       "    }\n",
       "\n",
       "    .dataframe tbody tr th {\n",
       "        vertical-align: top;\n",
       "    }\n",
       "\n",
       "    .dataframe thead th {\n",
       "        text-align: right;\n",
       "    }\n",
       "</style>\n",
       "<table border=\"1\" class=\"dataframe\">\n",
       "  <thead>\n",
       "    <tr style=\"text-align: right;\">\n",
       "      <th></th>\n",
       "      <th>Actual</th>\n",
       "      <th>Predicted</th>\n",
       "    </tr>\n",
       "  </thead>\n",
       "  <tbody>\n",
       "    <tr>\n",
       "      <th>0</th>\n",
       "      <td>67.0</td>\n",
       "      <td>64.019686</td>\n",
       "    </tr>\n",
       "    <tr>\n",
       "      <th>1</th>\n",
       "      <td>15.0</td>\n",
       "      <td>55.254807</td>\n",
       "    </tr>\n",
       "    <tr>\n",
       "      <th>2</th>\n",
       "      <td>67.0</td>\n",
       "      <td>64.019686</td>\n",
       "    </tr>\n",
       "    <tr>\n",
       "      <th>3</th>\n",
       "      <td>67.0</td>\n",
       "      <td>64.019686</td>\n",
       "    </tr>\n",
       "    <tr>\n",
       "      <th>4</th>\n",
       "      <td>67.0</td>\n",
       "      <td>64.019686</td>\n",
       "    </tr>\n",
       "    <tr>\n",
       "      <th>5</th>\n",
       "      <td>0.0</td>\n",
       "      <td>37.725049</td>\n",
       "    </tr>\n",
       "    <tr>\n",
       "      <th>6</th>\n",
       "      <td>31.0</td>\n",
       "      <td>44.298708</td>\n",
       "    </tr>\n",
       "    <tr>\n",
       "      <th>7</th>\n",
       "      <td>67.0</td>\n",
       "      <td>64.019686</td>\n",
       "    </tr>\n",
       "    <tr>\n",
       "      <th>8</th>\n",
       "      <td>67.0</td>\n",
       "      <td>64.019686</td>\n",
       "    </tr>\n",
       "    <tr>\n",
       "      <th>9</th>\n",
       "      <td>67.0</td>\n",
       "      <td>64.019686</td>\n",
       "    </tr>\n",
       "    <tr>\n",
       "      <th>10</th>\n",
       "      <td>67.0</td>\n",
       "      <td>64.019686</td>\n",
       "    </tr>\n",
       "    <tr>\n",
       "      <th>11</th>\n",
       "      <td>96.0</td>\n",
       "      <td>64.019686</td>\n",
       "    </tr>\n",
       "    <tr>\n",
       "      <th>12</th>\n",
       "      <td>36.0</td>\n",
       "      <td>37.725049</td>\n",
       "    </tr>\n",
       "    <tr>\n",
       "      <th>13</th>\n",
       "      <td>81.0</td>\n",
       "      <td>81.549444</td>\n",
       "    </tr>\n",
       "    <tr>\n",
       "      <th>14</th>\n",
       "      <td>88.0</td>\n",
       "      <td>37.725049</td>\n",
       "    </tr>\n",
       "    <tr>\n",
       "      <th>15</th>\n",
       "      <td>53.0</td>\n",
       "      <td>76.290516</td>\n",
       "    </tr>\n",
       "    <tr>\n",
       "      <th>16</th>\n",
       "      <td>80.0</td>\n",
       "      <td>59.637246</td>\n",
       "    </tr>\n",
       "    <tr>\n",
       "      <th>17</th>\n",
       "      <td>67.0</td>\n",
       "      <td>64.019686</td>\n",
       "    </tr>\n",
       "    <tr>\n",
       "      <th>18</th>\n",
       "      <td>0.0</td>\n",
       "      <td>37.725049</td>\n",
       "    </tr>\n",
       "    <tr>\n",
       "      <th>19</th>\n",
       "      <td>0.0</td>\n",
       "      <td>37.725049</td>\n",
       "    </tr>\n",
       "    <tr>\n",
       "      <th>20</th>\n",
       "      <td>0.0</td>\n",
       "      <td>37.725049</td>\n",
       "    </tr>\n",
       "    <tr>\n",
       "      <th>21</th>\n",
       "      <td>90.0</td>\n",
       "      <td>74.099296</td>\n",
       "    </tr>\n",
       "    <tr>\n",
       "      <th>22</th>\n",
       "      <td>67.0</td>\n",
       "      <td>64.019686</td>\n",
       "    </tr>\n",
       "    <tr>\n",
       "      <th>23</th>\n",
       "      <td>0.0</td>\n",
       "      <td>37.725049</td>\n",
       "    </tr>\n",
       "    <tr>\n",
       "      <th>24</th>\n",
       "      <td>67.0</td>\n",
       "      <td>64.019686</td>\n",
       "    </tr>\n",
       "    <tr>\n",
       "      <th>25</th>\n",
       "      <td>77.0</td>\n",
       "      <td>64.019686</td>\n",
       "    </tr>\n",
       "    <tr>\n",
       "      <th>26</th>\n",
       "      <td>67.0</td>\n",
       "      <td>64.019686</td>\n",
       "    </tr>\n",
       "    <tr>\n",
       "      <th>27</th>\n",
       "      <td>67.0</td>\n",
       "      <td>64.019686</td>\n",
       "    </tr>\n",
       "    <tr>\n",
       "      <th>28</th>\n",
       "      <td>67.0</td>\n",
       "      <td>64.019686</td>\n",
       "    </tr>\n",
       "    <tr>\n",
       "      <th>29</th>\n",
       "      <td>67.0</td>\n",
       "      <td>64.019686</td>\n",
       "    </tr>\n",
       "    <tr>\n",
       "      <th>30</th>\n",
       "      <td>67.0</td>\n",
       "      <td>64.019686</td>\n",
       "    </tr>\n",
       "    <tr>\n",
       "      <th>31</th>\n",
       "      <td>67.0</td>\n",
       "      <td>37.725049</td>\n",
       "    </tr>\n",
       "    <tr>\n",
       "      <th>32</th>\n",
       "      <td>77.0</td>\n",
       "      <td>59.637246</td>\n",
       "    </tr>\n",
       "    <tr>\n",
       "      <th>33</th>\n",
       "      <td>0.0</td>\n",
       "      <td>37.725049</td>\n",
       "    </tr>\n",
       "    <tr>\n",
       "      <th>34</th>\n",
       "      <td>78.0</td>\n",
       "      <td>72.784565</td>\n",
       "    </tr>\n",
       "    <tr>\n",
       "      <th>35</th>\n",
       "      <td>78.0</td>\n",
       "      <td>69.278613</td>\n",
       "    </tr>\n",
       "    <tr>\n",
       "      <th>36</th>\n",
       "      <td>67.0</td>\n",
       "      <td>64.019686</td>\n",
       "    </tr>\n",
       "    <tr>\n",
       "      <th>37</th>\n",
       "      <td>54.0</td>\n",
       "      <td>64.019686</td>\n",
       "    </tr>\n",
       "    <tr>\n",
       "      <th>38</th>\n",
       "      <td>67.0</td>\n",
       "      <td>64.019686</td>\n",
       "    </tr>\n",
       "    <tr>\n",
       "      <th>39</th>\n",
       "      <td>25.0</td>\n",
       "      <td>64.019686</td>\n",
       "    </tr>\n",
       "    <tr>\n",
       "      <th>40</th>\n",
       "      <td>0.0</td>\n",
       "      <td>37.725049</td>\n",
       "    </tr>\n",
       "    <tr>\n",
       "      <th>41</th>\n",
       "      <td>26.0</td>\n",
       "      <td>60.075490</td>\n",
       "    </tr>\n",
       "    <tr>\n",
       "      <th>42</th>\n",
       "      <td>21.0</td>\n",
       "      <td>57.007782</td>\n",
       "    </tr>\n",
       "    <tr>\n",
       "      <th>43</th>\n",
       "      <td>67.0</td>\n",
       "      <td>64.019686</td>\n",
       "    </tr>\n",
       "    <tr>\n",
       "      <th>44</th>\n",
       "      <td>53.0</td>\n",
       "      <td>64.019686</td>\n",
       "    </tr>\n",
       "    <tr>\n",
       "      <th>45</th>\n",
       "      <td>87.0</td>\n",
       "      <td>81.549444</td>\n",
       "    </tr>\n",
       "    <tr>\n",
       "      <th>46</th>\n",
       "      <td>67.0</td>\n",
       "      <td>64.019686</td>\n",
       "    </tr>\n",
       "    <tr>\n",
       "      <th>47</th>\n",
       "      <td>67.0</td>\n",
       "      <td>64.019686</td>\n",
       "    </tr>\n",
       "    <tr>\n",
       "      <th>48</th>\n",
       "      <td>67.0</td>\n",
       "      <td>64.019686</td>\n",
       "    </tr>\n",
       "    <tr>\n",
       "      <th>49</th>\n",
       "      <td>83.0</td>\n",
       "      <td>79.796468</td>\n",
       "    </tr>\n",
       "  </tbody>\n",
       "</table>\n",
       "</div>"
      ],
      "text/plain": [
       "    Actual  Predicted\n",
       "0     67.0  64.019686\n",
       "1     15.0  55.254807\n",
       "2     67.0  64.019686\n",
       "3     67.0  64.019686\n",
       "4     67.0  64.019686\n",
       "5      0.0  37.725049\n",
       "6     31.0  44.298708\n",
       "7     67.0  64.019686\n",
       "8     67.0  64.019686\n",
       "9     67.0  64.019686\n",
       "10    67.0  64.019686\n",
       "11    96.0  64.019686\n",
       "12    36.0  37.725049\n",
       "13    81.0  81.549444\n",
       "14    88.0  37.725049\n",
       "15    53.0  76.290516\n",
       "16    80.0  59.637246\n",
       "17    67.0  64.019686\n",
       "18     0.0  37.725049\n",
       "19     0.0  37.725049\n",
       "20     0.0  37.725049\n",
       "21    90.0  74.099296\n",
       "22    67.0  64.019686\n",
       "23     0.0  37.725049\n",
       "24    67.0  64.019686\n",
       "25    77.0  64.019686\n",
       "26    67.0  64.019686\n",
       "27    67.0  64.019686\n",
       "28    67.0  64.019686\n",
       "29    67.0  64.019686\n",
       "30    67.0  64.019686\n",
       "31    67.0  37.725049\n",
       "32    77.0  59.637246\n",
       "33     0.0  37.725049\n",
       "34    78.0  72.784565\n",
       "35    78.0  69.278613\n",
       "36    67.0  64.019686\n",
       "37    54.0  64.019686\n",
       "38    67.0  64.019686\n",
       "39    25.0  64.019686\n",
       "40     0.0  37.725049\n",
       "41    26.0  60.075490\n",
       "42    21.0  57.007782\n",
       "43    67.0  64.019686\n",
       "44    53.0  64.019686\n",
       "45    87.0  81.549444\n",
       "46    67.0  64.019686\n",
       "47    67.0  64.019686\n",
       "48    67.0  64.019686\n",
       "49    83.0  79.796468"
      ]
     },
     "execution_count": 24,
     "metadata": {},
     "output_type": "execute_result"
    }
   ],
   "source": [
    "# Comparing the predicted y values with the actual y values\n",
    "data = pd.DataFrame({'Actual': y_test.flatten(), 'Predicted': y_predicted.flatten()})\n",
    "data.head(50)"
   ]
  },
  {
   "cell_type": "markdown",
   "id": "38a0ae27",
   "metadata": {},
   "source": [
    "#### My thoghts\n",
    "the predicted is within 10 for most of the points but there are also a lot of points that have 0 and the predicted has 37. It really does not show a relathionship between the auddince score and the tomato meter score very well.\n"
   ]
  },
  {
   "cell_type": "markdown",
   "id": "b79cca15",
   "metadata": {},
   "source": [
    "Some reflectrions on this graph is see if there is a better way to look at this data to find a correlations all the data points are all over the graph "
   ]
  }
 ],
 "metadata": {
  "kernelspec": {
   "display_name": "Python 3",
   "language": "python",
   "name": "python3"
  },
  "language_info": {
   "codemirror_mode": {
    "name": "ipython",
    "version": 3
   },
   "file_extension": ".py",
   "mimetype": "text/x-python",
   "name": "python",
   "nbconvert_exporter": "python",
   "pygments_lexer": "ipython3",
   "version": "3.8.8"
  }
 },
 "nbformat": 4,
 "nbformat_minor": 5
}
